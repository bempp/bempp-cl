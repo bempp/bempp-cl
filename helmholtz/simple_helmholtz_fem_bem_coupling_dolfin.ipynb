{
 "cells": [
  {
   "cell_type": "markdown",
   "id": "9bbb07e0",
   "metadata": {},
   "source": [
    "# Simple FEM-BEM coupling for the Helmholtz equation with FEniCS\n",
    "\n",
    "## Background\n",
    "<i>For this problem, you will need FEniCS installed alongside Bempp-cl.</i>\n",
    "\n",
    "In this tutorial, we will solve the problem of a wave travelling through a unit cube, $\\Omega = [0,1]^3$ with different material parameters inside and outside the domain. The incident wave is given by\n",
    "\n",
    "$$\n",
    "u^\\text{inc}(\\mathbf{x})=\\mathrm{e}^{\\mathrm{i} k \\mathbf{x}\\cdot\\mathbf{d}},\n",
    "$$\n",
    "\n",
    "where $\\mathbf{x}=(x,y,z)$ and $\\mathbf{d}$ is the direction of the incident wave. In the implementation we use, $\\mathbf{d} = \\frac{1}{\\sqrt{3}}(1,1,1)$.\n",
    "\n",
    "The PDE is\n",
    "\n",
    "$$\n",
    "\\Delta u + n(\\mathbf{x})^2 k^2 u = 0, \\quad \\text{ in } \\Omega\\\\\n",
    "\\Delta u + k^2 u = 0, \\quad \\text{ in } \\mathbb{R}^3 \\backslash \\Omega\n",
    "$$\n",
    "\n",
    "In this example, we use\n",
    "\n",
    "$$\n",
    "n(\\mathbf{x}) = 0.5\n",
    "$$\n",
    "Since the interior wavenumber is constant one could have also used a BEM/BEM coupling approach. However, here we demonstrate the use of FEM for the interior problem using the <a href='http://fenicsproject.org/' target='new'>FEniCS</a> finite element package.\n",
    "\n",
    "### FEM Part\n",
    "In $\\Omega$, the FEM part is formulated as\n",
    "\n",
    "$$\n",
    "\\int_\\Omega \\nabla u\\cdot\\nabla v -k^2\\int_\\Omega n^2uv - \\int_{d\\Omega} v\\frac{\\partial u}{\\partial \\nu} = 0,\n",
    "$$\n",
    "\n",
    "or\n",
    "\n",
    "$$\n",
    "\\langle\\nabla u,\\nabla v\\rangle_\\Omega - k^2\\langle n^2u,v\\rangle_\\Omega - \\langle \\lambda,v\\rangle_\\Gamma=0,\n",
    "$$\n",
    "\n",
    "where $\\lambda=\\frac{\\partial u}{\\partial \\nu}$.\n",
    "\n",
    "Later, we will write this as the following operator equation\n",
    "\n",
    "$$\n",
    "\\mathsf{A}u-k^2 \\mathsf{M}u-\\mathsf{M}_\\Gamma \\lambda = 0\n",
    "$$\n",
    "\n",
    "### BEM Part\n",
    "In $\\mathbb{R}^3 \\backslash \\Omega$, we let $u = u^\\text{inc}+u^\\text{s}$, where $u^\\text{inc}$ is the incident wave and $u^\\text{s}$ is the scattered wave. As given in <a href='http://epubs.siam.org/doi/book/10.1137/1.9781611973167' target='new'><em>Integral equation methods in scattering theory</em> by Colton & Kress</a>,\n",
    "\n",
    "$$\n",
    "0 = \\mathcal{K}u^\\text{inc}-\\mathcal{V}\\frac{\\partial u^{inc}}{\\partial \\nu},\\\\[2mm]\n",
    "u^\\text{s} = \\mathcal{K}u^\\text{s}-\\mathcal{V}\\frac{\\partial u^{s}}{\\partial \\nu},\n",
    "$$\n",
    "where $\\mathcal{K}$ and $\\mathcal{V}$ are the double single layer potential operators. Adding these, we get\n",
    "\n",
    "$$\n",
    "u^\\text{s} = \\mathcal{K}u-\\mathcal{V}\\lambda.\n",
    "$$\n",
    "\n",
    "This representation formula will be used to find $u^\\text{s}$ for plotting later.\n",
    "\n",
    "Taking the trace on the boundary gives\n",
    "\n",
    "$$\n",
    "u-u^\\text{inc} = \\left(\\tfrac{1}{2}\\mathsf{Id}+\\mathsf{K}\\right)u -\\mathsf{V}\\lambda.\n",
    "$$\n",
    "\n",
    "This rearranges to\n",
    "\n",
    "$$\n",
    "u^\\text{inc} = \\left(\\tfrac{1}{2}\\mathsf{Id}-\\mathsf{K}\\right)u+\\mathsf{V}\\lambda.\n",
    "$$\n",
    "\n",
    "### Full Formulation\n",
    "The full blocked formulation is\n",
    "\n",
    "$$\n",
    "\\begin{bmatrix}\n",
    "    \\mathsf{A}-k^2 \\mathsf{M} & -\\mathsf{M}_\\Gamma\\\\\n",
    "    \\tfrac{1}{2}\\mathsf{Id}-\\mathsf{K} & \\mathsf{V}\n",
    "\\end{bmatrix}\n",
    "\\begin{bmatrix}\n",
    "    u\\\\\n",
    "    \\lambda\n",
    "\\end{bmatrix}=\\begin{bmatrix}\n",
    "    0\\\\\n",
    "    u^\\text{inc}\n",
    "\\end{bmatrix}.\n",
    "$$\n",
    "\n",
    "This formulation is not stable for all frequencies due to the possibility of interior resonances. But it is sufficient for this example and serves as a blueprint for more complex formulations.\n",
    "\n",
    "## Implementation\n",
    "We begin by importing DOLFIN, the FEniCS python library, Bempp and NumPy."
   ]
  },
  {
   "cell_type": "code",
   "execution_count": null,
   "id": "c9007a7e",
   "metadata": {},
   "outputs": [],
   "source": [
    "import dolfin\n",
    "import bempp_cl.api\n",
    "import numpy as np"
   ]
  },
  {
   "cell_type": "markdown",
   "id": "f113b01b",
   "metadata": {},
   "source": [
    "Next, we set the wavenumber ``k`` and the direction ``d`` of the incoming wave."
   ]
  },
  {
   "cell_type": "code",
   "execution_count": null,
   "id": "0cb9a7f6",
   "metadata": {},
   "outputs": [],
   "source": [
    "k = 6.0\n",
    "d = np.array([1.0, 1.0, 1])\n",
    "d /= np.linalg.norm(d)"
   ]
  },
  {
   "cell_type": "markdown",
   "id": "d2abde21",
   "metadata": {},
   "source": [
    "We create a DOLFIN mesh. Later, the boundary mesh will be extracted from this.\n",
    "\n",
    "A mesh could be created from a file changing this line to ``mesh = dolfin.Mesh('/path/to/file.xml')``."
   ]
  },
  {
   "cell_type": "code",
   "execution_count": null,
   "id": "938143ed",
   "metadata": {},
   "outputs": [],
   "source": [
    "mesh = dolfin.UnitCubeMesh(10, 10, 10)"
   ]
  },
  {
   "cell_type": "markdown",
   "id": "b2982b4d",
   "metadata": {},
   "source": [
    "Next, we make the DOLFIN and Bempp function spaces.\n",
    "\n",
    "The function ``fenics_to_bempp_trace_data`` will extract the trace space from the DOLFIN space and create the matrix ``trace_matrix``, which maps between the dofs (degrees of freedom) in DOLFIN and bempp_cl."
   ]
  },
  {
   "cell_type": "code",
   "execution_count": null,
   "id": "ff4d418b",
   "metadata": {},
   "outputs": [],
   "source": [
    "from bempp_cl.api.external import fenics\n",
    "\n",
    "fenics_space = dolfin.FunctionSpace(mesh, \"CG\", 1)\n",
    "trace_space, trace_matrix = fenics.fenics_to_bempp_trace_data(fenics_space)\n",
    "bempp_space = bempp_cl.api.function_space(trace_space.grid, \"DP\", 0)\n",
    "\n",
    "print(\"FEM dofs: {0}\".format(mesh.num_vertices()))\n",
    "print(\"BEM dofs: {0}\".format(bempp_space.global_dof_count))"
   ]
  },
  {
   "cell_type": "markdown",
   "id": "e0477deb",
   "metadata": {},
   "source": [
    "We create the boundary operators that we need."
   ]
  },
  {
   "cell_type": "code",
   "execution_count": null,
   "id": "9254ee93",
   "metadata": {},
   "outputs": [],
   "source": [
    "id_op = bempp_cl.api.operators.boundary.sparse.identity(trace_space, bempp_space, bempp_space)\n",
    "mass = bempp_cl.api.operators.boundary.sparse.identity(bempp_space, bempp_space, trace_space)\n",
    "dlp = bempp_cl.api.operators.boundary.helmholtz.double_layer(trace_space, bempp_space, bempp_space, k)\n",
    "slp = bempp_cl.api.operators.boundary.helmholtz.single_layer(bempp_space, bempp_space, bempp_space, k)"
   ]
  },
  {
   "cell_type": "markdown",
   "id": "757b7f83",
   "metadata": {},
   "source": [
    "We create the DOLFIN function spaces and the function (or in this case constant) ``n``."
   ]
  },
  {
   "cell_type": "code",
   "execution_count": null,
   "id": "29a82a50",
   "metadata": {},
   "outputs": [],
   "source": [
    "u = dolfin.TrialFunction(fenics_space)\n",
    "v = dolfin.TestFunction(fenics_space)\n",
    "n = 0.5"
   ]
  },
  {
   "cell_type": "markdown",
   "id": "8cc149e8",
   "metadata": {
    "lines_to_next_cell": 2
   },
   "source": [
    "We make the vectors on the right hand side of the formulation."
   ]
  },
  {
   "cell_type": "code",
   "execution_count": null,
   "id": "32fdbaf4",
   "metadata": {},
   "outputs": [],
   "source": [
    "@bempp_cl.api.complex_callable\n",
    "def u_inc(x, n, domain_index, result):\n",
    "    result[0] = np.exp(1j * k * np.dot(x, d))\n",
    "\n",
    "\n",
    "u_inc = bempp_cl.api.GridFunction(bempp_space, fun=u_inc)\n",
    "\n",
    "# The rhs from the FEM\n",
    "rhs_fem = np.zeros(mesh.num_vertices())\n",
    "# The rhs from the BEM\n",
    "rhs_bem = u_inc.projections(bempp_space)\n",
    "# The combined rhs\n",
    "rhs = np.concatenate([rhs_fem, rhs_bem])"
   ]
  },
  {
   "cell_type": "markdown",
   "id": "4bca8641",
   "metadata": {},
   "source": [
    "We are now ready to create a ``BlockedLinearOperator`` containing all four parts of the discretisation of\n",
    "$$\n",
    "\\begin{bmatrix}\n",
    "    \\mathsf{A}-k^2 \\mathsf{M} & -\\mathsf{M}_\\Gamma\\\\\n",
    "    \\tfrac{1}{2}\\mathsf{Id}-\\mathsf{K} & \\mathsf{V}\n",
    "\\end{bmatrix}.\n",
    "$$"
   ]
  },
  {
   "cell_type": "code",
   "execution_count": null,
   "id": "6360c28e",
   "metadata": {},
   "outputs": [],
   "source": [
    "from bempp_cl.api.assembly.blocked_operator import BlockedDiscreteOperator\n",
    "from bempp_cl.api.external.fenics import FenicsOperator\n",
    "from scipy.sparse.linalg.interface import LinearOperator\n",
    "\n",
    "blocks = [[None, None], [None, None]]\n",
    "\n",
    "trace_op = LinearOperator(trace_matrix.shape, lambda x: trace_matrix @ x)\n",
    "\n",
    "A = FenicsOperator((dolfin.inner(dolfin.nabla_grad(u), dolfin.nabla_grad(v)) - k**2 * n**2 * u * v) * dolfin.dx)\n",
    "\n",
    "blocks[0][0] = A.weak_form()\n",
    "blocks[0][1] = -trace_matrix.T * mass.weak_form().to_sparse()\n",
    "blocks[1][0] = (0.5 * id_op - dlp).weak_form() * trace_op\n",
    "blocks[1][1] = slp.weak_form()\n",
    "\n",
    "blocked = BlockedDiscreteOperator(np.array(blocks))"
   ]
  },
  {
   "cell_type": "markdown",
   "id": "29b2fa35",
   "metadata": {},
   "source": [
    "Next, we solve the system, then split the solution into the parts assosiated with u and &lambda;. For an efficient solve, preconditioning is required."
   ]
  },
  {
   "cell_type": "code",
   "execution_count": null,
   "id": "a4b4364f",
   "metadata": {},
   "outputs": [],
   "source": [
    "from bempp_cl.api.assembly.discrete_boundary_operator import InverseSparseDiscreteBoundaryOperator\n",
    "from scipy.sparse.linalg import LinearOperator\n",
    "\n",
    "# Compute the sparse inverse of the Helmholtz operator\n",
    "# Although it is not a boundary operator we can use\n",
    "# the SparseInverseDiscreteBoundaryOperator function from\n",
    "# BEM++ to turn its LU decomposition into a linear operator.\n",
    "P1 = InverseSparseDiscreteBoundaryOperator(blocked[0, 0].to_sparse().tocsc())\n",
    "\n",
    "# For the Laplace slp we use a simple mass matrix preconditioner.\n",
    "# This is sufficient for smaller low-frequency problems.\n",
    "P2 = InverseSparseDiscreteBoundaryOperator(\n",
    "    bempp_cl.api.operators.boundary.sparse.identity(bempp_space, bempp_space, bempp_space).weak_form()\n",
    ")\n",
    "\n",
    "\n",
    "# Create a block diagonal preconditioner object using the Scipy LinearOperator class\n",
    "def apply_prec(x):\n",
    "    \"\"\"Apply the block diagonal preconditioner\"\"\"\n",
    "    n1 = P1.shape[1]\n",
    "\n",
    "    res1 = P1.dot(x[:n1])\n",
    "    res2 = P2.dot(x[n1:])\n",
    "    return np.concatenate([res1, res2])\n",
    "\n",
    "\n",
    "p_shape = (P1.shape[0] + P2.shape[0], P1.shape[1] + P2.shape[1])\n",
    "P = LinearOperator(p_shape, apply_prec, dtype=np.dtype(\"complex128\"))\n",
    "\n",
    "# Create a callback function to count the number of iterations\n",
    "it_count = 0\n",
    "\n",
    "\n",
    "def count_iterations(x):\n",
    "    global it_count\n",
    "    it_count += 1\n",
    "\n",
    "\n",
    "from scipy.sparse.linalg import gmres\n",
    "\n",
    "soln, info = gmres(blocked, rhs, M=P, callback=count_iterations)\n",
    "\n",
    "soln_fem = soln[: mesh.num_vertices()]\n",
    "soln_bem = soln[mesh.num_vertices() :]\n",
    "\n",
    "print(\"Number of iterations: {0}\".format(it_count))"
   ]
  },
  {
   "cell_type": "markdown",
   "id": "4c5d049b",
   "metadata": {},
   "source": [
    "Next, we make DOLFIN and Bempp functions from the solution."
   ]
  },
  {
   "cell_type": "code",
   "execution_count": null,
   "id": "946706c8",
   "metadata": {},
   "outputs": [],
   "source": [
    "# Store the real part of the FEM solution\n",
    "u = dolfin.Function(fenics_space)\n",
    "u.vector()[:] = np.ascontiguousarray(np.real(soln_fem))\n",
    "\n",
    "# Solution function with dirichlet data on the boundary\n",
    "dirichlet_data = trace_matrix * soln_fem\n",
    "dirichlet_fun = bempp_cl.api.GridFunction(trace_space, coefficients=dirichlet_data)\n",
    "\n",
    "# Solution function with Neumann data on the boundary\n",
    "neumann_fun = bempp_cl.api.GridFunction(bempp_space, coefficients=soln_bem)"
   ]
  },
  {
   "cell_type": "markdown",
   "id": "28a6733a",
   "metadata": {},
   "source": [
    "We now evaluate the solution on the slice $z=0.5$ and plot it. For the exterior domain, we use the respresentation formula\n",
    "\n",
    "$$\n",
    "u^\\text{s} = \\mathcal{K}u-\\mathcal{V}\\frac{\\partial u}{\\partial \\nu}\n",
    "$$\n",
    "\n",
    "to evaluate the solution."
   ]
  },
  {
   "cell_type": "code",
   "execution_count": null,
   "id": "ce9cded0",
   "metadata": {},
   "outputs": [],
   "source": [
    "# The next command ensures that plots are shown within the IPython notebook\n",
    "try:\n",
    "    get_ipython().run_line_magic(\"matplotlib\", \"inline\")\n",
    "    ipython = True\n",
    "except NameError:\n",
    "    ipython = False\n",
    "\n",
    "Nx = 200\n",
    "Ny = 200\n",
    "xmin, xmax, ymin, ymax = [-1, 3, -1, 3]\n",
    "plot_grid = np.mgrid[xmin : xmax : Nx * 1j, ymin : ymax : Ny * 1j]\n",
    "points = np.vstack((plot_grid[0].ravel(), plot_grid[1].ravel(), np.array([0.5] * plot_grid[0].size)))\n",
    "plot_me = np.zeros(points.shape[1], dtype=np.complex128)\n",
    "\n",
    "x, y, z = points\n",
    "bem_x = np.logical_not((x > 0) * (x < 1) * (y > 0) * (y < 1) * (z > 0) * (z < 1))\n",
    "\n",
    "slp_pot = bempp_cl.api.operators.potential.helmholtz.single_layer(bempp_space, points[:, bem_x], k)\n",
    "dlp_pot = bempp_cl.api.operators.potential.helmholtz.double_layer(trace_space, points[:, bem_x], k)\n",
    "\n",
    "plot_me[bem_x] += np.exp(1j * k * (points[0, bem_x] * d[0] + points[1, bem_x] * d[1] + points[2, bem_x] * d[2]))\n",
    "plot_me[bem_x] += dlp_pot.evaluate(dirichlet_fun).flat\n",
    "plot_me[bem_x] -= slp_pot.evaluate(neumann_fun).flat\n",
    "\n",
    "fem_points = points[:, np.logical_not(bem_x)].transpose()\n",
    "fem_val = np.zeros(len(fem_points))\n",
    "for p, point in enumerate(fem_points):\n",
    "    result = np.zeros(1)\n",
    "    u.eval(result, point)\n",
    "    fem_val[p] = result[0]\n",
    "\n",
    "plot_me[np.logical_not(bem_x)] += fem_val\n",
    "\n",
    "plot_me = plot_me.reshape((Nx, Ny))\n",
    "\n",
    "plot_me = plot_me.transpose()[::-1]\n",
    "\n",
    "# Plot the image\n",
    "from matplotlib import pyplot as plt\n",
    "\n",
    "fig = plt.figure(figsize=(10, 8))\n",
    "plt.imshow(np.real(plot_me), extent=[xmin, xmax, ymin, ymax])\n",
    "plt.xlabel(\"x\")\n",
    "plt.ylabel(\"y\")\n",
    "plt.colorbar()\n",
    "plt.title(\"FEM-BEM Coupling for Helmholtz\")\n",
    "if not ipython:\n",
    "    plt.savefig(\"example-simple_helmholtz_fem_bem_coupling_dolfin.png\")\n"
   ]
  }
 ],
 "metadata": {
  "jupytext": {
   "main_language": "python"
  }
 },
 "nbformat": 4,
 "nbformat_minor": 5
}
