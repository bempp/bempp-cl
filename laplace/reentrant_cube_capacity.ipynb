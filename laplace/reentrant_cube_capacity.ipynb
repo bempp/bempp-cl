{
 "cells": [
  {
   "cell_type": "markdown",
   "id": "017a9e59",
   "metadata": {},
   "source": [
    "# Computing the capacity of a cube with a re-entrant corner\n",
    "\n",
    "## Background\n",
    "The capacity $\\text{cap}(\\Omega)$ of an isolated conductor $\\Omega\\subset\\mathbb{R}^3$ with boundary $\\Gamma$ measures its ability to store charges. It is defined as the ratio of the total surface equilibrium charge relative to its surface potential value. To compute the capacity, we need to solve the following exterior Laplace problem for the equilibrium potential $u$ with unit surface value:\n",
    "$$\n",
    "\\begin{align}\n",
    "-\\Delta u &= 0\\quad\\text{in }\\Omega^\\text{+},\\\\\n",
    "u &= 1\\quad\\text{on }\\Gamma,\\\\\n",
    "|u(\\mathbf{x})| &=\\mathcal{O}\\left(|\\mathbf{x}|^{-1}\\right)\\quad\\text{as }|\\mathbf{x}|\\rightarrow\\infty.\n",
    "\\end{align}\n",
    "$$\n",
    "Here $\\Omega^\\text{+}$ is the domain exterior to $\\Omega$.\n",
    "The total surface charge of an isolated conductor is given by Gauss law as\n",
    "$$\n",
    "\\text{cap}(\\Omega)=-\\epsilon_0\\int_{\\Gamma}\\frac{\\partial u}{\\partial\\nu}(\\mathbf{x})\\,\\mathrm{d}\\mathbf{x}.\n",
    "$$\n",
    "$\\nu(\\mathbf{x})$ is the outward pointing normal direction for $\\mathbf{x}\\in\\Gamma$, and $\\epsilon_0$ is the electric constant with value $\\epsilon_0\\approx 8.854\\times 10^{-12}\\,{\\rm F/m}$. In the following we will use the normalized capacity $\\text{cap}^*(\\Omega)=-\\frac{1}{4\\pi}\\int_{\\Gamma}\\frac{\\partial u}{\\partial\\nu}\\,d\\mathbf{x}$. The normalized capacity has the value $1$ for the unit sphere.\n",
    "\n",
    "Using Green's representation theorem and noting that the exterior Laplace double layer potential is zero for constant densities, we can represent the solution $u$ as\n",
    "$$\n",
    "u(\\mathbf{x}) = -\\int_{\\Gamma} g(\\mathbf{x},\\mathbf{y})\\phi(\\mathbf{y})\\,\\mathrm{d}\\mathbf{y} \\quad\\text{for all }\\mathbf{x}\\in\\Omega^\\text{+},\n",
    "$$\n",
    "where $\\phi:={\\partial u}/{\\partial\\nu}$ is the normal derivative of the exterior solution $u$ and $g(\\mathbf{x},\\mathbf{y}):=\\frac{1}{4\\pi|\\mathbf{x}-\\mathbf{y}|}$ is the Green's function of the 3D Laplacian. By taking boundary traces, we arrive at the following boundary integral equation of the first kind.\n",
    "$$\n",
    "1 = -\\int_{\\Gamma} g(\\mathbf{x},\\mathbf{y})\\phi(\\mathbf{y})\\,\\mathrm{d}\\mathbf{y} =: -\\mathsf{V}\\phi(\\mathbf{x})\\quad\\text{for all }\\mathbf{x}\\in\\Gamma.\n",
    "$$\n",
    "The normalized capacity is now simply given by\n",
    "$$\n",
    "\\text{cap}^*(\\Omega) = -\\frac{1}{4\\pi}\\int_\\Gamma \\phi(\\mathbf{x}) \\,\\mathrm{d}\\mathbf{x}.\n",
    "$$\n",
    "\n",
    "## Implementation\n",
    "We start with the usual imports."
   ]
  },
  {
   "cell_type": "code",
   "execution_count": 1,
   "id": "a0d7c037",
   "metadata": {
    "execution": {
     "iopub.execute_input": "2025-08-01T13:51:07.994492Z",
     "iopub.status.busy": "2025-08-01T13:51:07.994249Z",
     "iopub.status.idle": "2025-08-01T13:51:08.391747Z",
     "shell.execute_reply": "2025-08-01T13:51:08.391294Z"
    }
   },
   "outputs": [],
   "source": [
    "import bempp_cl.api\n",
    "import numpy as np"
   ]
  },
  {
   "cell_type": "markdown",
   "id": "062f52f7",
   "metadata": {},
   "source": [
    "The grid re-entrant cube is predefined in the shapes module. By default it refines towards the singular corner. As function space on the grid we choose a simple space of piecewise constant functions."
   ]
  },
  {
   "cell_type": "code",
   "execution_count": 2,
   "id": "44d583de",
   "metadata": {
    "execution": {
     "iopub.execute_input": "2025-08-01T13:51:08.393689Z",
     "iopub.status.busy": "2025-08-01T13:51:08.393459Z",
     "iopub.status.idle": "2025-08-01T13:51:15.293822Z",
     "shell.execute_reply": "2025-08-01T13:51:15.293382Z"
    }
   },
   "outputs": [
    {
     "name": "stdout",
     "output_type": "stream",
     "text": [
      "\n"
     ]
    }
   ],
   "source": [
    "grid = bempp_cl.api.shapes.reentrant_cube(h=0.02, refinement_factor=1)\n",
    "space = bempp_cl.api.function_space(grid, \"DP\", 0)"
   ]
  },
  {
   "cell_type": "markdown",
   "id": "87584bf6",
   "metadata": {
    "lines_to_next_cell": 2
   },
   "source": [
    "Next, we define the right-hand side."
   ]
  },
  {
   "cell_type": "code",
   "execution_count": 3,
   "id": "0339c0fd",
   "metadata": {
    "execution": {
     "iopub.execute_input": "2025-08-01T13:51:15.295708Z",
     "iopub.status.busy": "2025-08-01T13:51:15.295543Z",
     "iopub.status.idle": "2025-08-01T13:51:22.733030Z",
     "shell.execute_reply": "2025-08-01T13:51:22.732479Z"
    }
   },
   "outputs": [],
   "source": [
    "@bempp_cl.api.real_callable\n",
    "def one_fun(x, n, domain_index, res):\n",
    "    res[0] = 1\n",
    "\n",
    "\n",
    "rhs = bempp_cl.api.GridFunction(space, fun=one_fun)"
   ]
  },
  {
   "cell_type": "markdown",
   "id": "9da269a1",
   "metadata": {},
   "source": [
    "The following code defines the left-hand side single-layer boundary operator."
   ]
  },
  {
   "cell_type": "code",
   "execution_count": 4,
   "id": "88014054",
   "metadata": {
    "execution": {
     "iopub.execute_input": "2025-08-01T13:51:22.734886Z",
     "iopub.status.busy": "2025-08-01T13:51:22.734713Z",
     "iopub.status.idle": "2025-08-01T13:51:22.738685Z",
     "shell.execute_reply": "2025-08-01T13:51:22.738296Z"
    }
   },
   "outputs": [],
   "source": [
    "op = bempp_cl.api.operators.boundary.laplace.single_layer(space, space, space)"
   ]
  },
  {
   "cell_type": "markdown",
   "id": "f52bbe83",
   "metadata": {},
   "source": [
    "We use GMRES to solve the system. To improve convergence we use a strong form discretisation that automatically preconditions with the mass matrix."
   ]
  },
  {
   "cell_type": "code",
   "execution_count": 5,
   "id": "47c5a07c",
   "metadata": {
    "execution": {
     "iopub.execute_input": "2025-08-01T13:51:22.740136Z",
     "iopub.status.busy": "2025-08-01T13:51:22.739991Z",
     "iopub.status.idle": "2025-08-01T13:53:27.140148Z",
     "shell.execute_reply": "2025-08-01T13:53:27.139634Z"
    }
   },
   "outputs": [
    {
     "name": "stderr",
     "output_type": "stream",
     "text": [
      "/dolfinx-env/lib/python3.12/site-packages/bempp_cl/api/assembly/discrete_boundary_operator.py:619: SparseEfficiencyWarning: splu converted its input to CSC format\n",
      "  solver = solver_interface(actual_mat)\n"
     ]
    },
    {
     "name": "stdout",
     "output_type": "stream",
     "text": [
      "Number of iterations: 35\n"
     ]
    }
   ],
   "source": [
    "sol, _, iteration_count = bempp_cl.api.linalg.gmres(op, rhs, use_strong_form=True, return_iteration_count=True)\n",
    "\n",
    "print(\"Number of iterations: {0}\".format(iteration_count))"
   ]
  },
  {
   "cell_type": "markdown",
   "id": "b23d6ee5",
   "metadata": {},
   "source": [
    "To obtain the capacity we simply integrate the solution across the boundary."
   ]
  },
  {
   "cell_type": "code",
   "execution_count": 6,
   "id": "793ac67a",
   "metadata": {
    "execution": {
     "iopub.execute_input": "2025-08-01T13:53:27.141865Z",
     "iopub.status.busy": "2025-08-01T13:53:27.141696Z",
     "iopub.status.idle": "2025-08-01T13:53:31.524124Z",
     "shell.execute_reply": "2025-08-01T13:53:31.523510Z"
    }
   },
   "outputs": [
    {
     "name": "stdout",
     "output_type": "stream",
     "text": [
      "The normalized capacity is 0.645517776132192.\n"
     ]
    }
   ],
   "source": [
    "normalized_capacity = 1.0 / (4 * np.pi) * sol.integrate()[0]\n",
    "print(\"The normalized capacity is {0}.\".format(normalized_capacity))"
   ]
  }
 ],
 "metadata": {
  "jupytext": {
   "main_language": "python"
  },
  "language_info": {
   "codemirror_mode": {
    "name": "ipython",
    "version": 3
   },
   "file_extension": ".py",
   "mimetype": "text/x-python",
   "name": "python",
   "nbconvert_exporter": "python",
   "pygments_lexer": "ipython3",
   "version": "3.12.3"
  }
 },
 "nbformat": 4,
 "nbformat_minor": 5
}
