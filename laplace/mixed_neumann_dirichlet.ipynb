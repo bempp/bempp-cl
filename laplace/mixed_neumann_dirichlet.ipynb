{
 "cells": [
  {
   "cell_type": "markdown",
   "id": "f67f0369",
   "metadata": {},
   "source": [
    "# Solving a mixed Neumann-Dirichlet problem\n",
    "\n",
    "## Background\n",
    "With Bempp, it is possible to define operators only on segments of a given domain. This makes it possible to solve mixed Neumann-Dirichlet problems. In this tutorial, we solve the Laplace equation inside the unit cube with unit Dirichlet boundary conditions on two sides and unit Neumann boundary conditions on the other four sides.\n",
    "\n",
    "Denote by $\\Gamma_D$ the part of the boundary that holds the Dirichlet boundary conditions and by $\\Gamma_N$ the boundary part that holds the Neumann boundary conditions. We denote by $t\\in\\Gamma_D$ the unknown Neumann data and by $u\\in\\Gamma_N$ the unknown Dirichlet data. The given Dirichlet data on $\\Gamma_D$ is denoted by $g_D$ and the given Neumann data on $\\Gamma_N$ is denoted by $g_N$.\n",
    "\n",
    "From Green's representation theorem it follows that\n",
    "$$\n",
    "\\begin{align}\n",
    "\\left[\\mathsf{V}t\\right] (\\mathbf{x}) - \\left[\\mathsf{K}u\\right] (\\mathbf{x}) &= \\left[\\tfrac{1}{2}\\mathsf{Id} + \\mathsf{K}\\right]g_D(\\mathbf{x}) - \\mathsf{V}g_N(\\mathbf{x}),\\quad \\mathbf{x}\\in\\Gamma_D\\\\\n",
    "\\left[\\mathsf{W}u\\right] (\\mathbf{x}) + \\left[\\mathsf{K}'t\\right] (\\mathbf{x}) &=\\left[\\tfrac{1}{2}\\mathsf{Id} - \\mathsf{K}'\\right]g_N(\\mathbf{x}) - \\mathsf{W}g_D(\\mathbf{x}),\\quad \\mathbf{x}\\in\\Gamma_N\n",
    "\\end{align}\n",
    "$$\n",
    "Here (as usual) $\\mathsf{V}$, $\\mathsf{K}$, $\\mathsf{K}'$, $\\mathsf{W}$ are the single layer, double layer, adjoint double layer and hypersingular boundary operators.\n",
    "\n",
    "The difficulty in the implementation is the definition of the discrete function spaces and the treatment of degrees of freedom (dofs) that lie on the interface between $\\Gamma_N$ and $\\Gamma_D$. In the following, we will go through the implementation and point out how to correctly define all spaces involved.\n",
    "\n",
    "## Implementation\n",
    "We start with the usual imports and set the plotting backend to Jupyter Notebook."
   ]
  },
  {
   "cell_type": "code",
   "execution_count": 1,
   "id": "c01c93cf",
   "metadata": {
    "execution": {
     "iopub.execute_input": "2025-08-01T13:48:16.307051Z",
     "iopub.status.busy": "2025-08-01T13:48:16.306893Z",
     "iopub.status.idle": "2025-08-01T13:48:16.701529Z",
     "shell.execute_reply": "2025-08-01T13:48:16.700948Z"
    }
   },
   "outputs": [],
   "source": [
    "import bempp_cl.api"
   ]
  },
  {
   "cell_type": "markdown",
   "id": "1a630a01",
   "metadata": {},
   "source": [
    "We now define the domain. We use a standard unit cube. In the corresponding function all sides of the cube are already associated with different domain indices. We associate the indices 1 and 3 with the Dirichlet boundary and the other indices with the neumann boundary."
   ]
  },
  {
   "cell_type": "code",
   "execution_count": 2,
   "id": "a0ce797a",
   "metadata": {
    "execution": {
     "iopub.execute_input": "2025-08-01T13:48:16.703568Z",
     "iopub.status.busy": "2025-08-01T13:48:16.703346Z",
     "iopub.status.idle": "2025-08-01T13:48:22.679704Z",
     "shell.execute_reply": "2025-08-01T13:48:22.679167Z"
    }
   },
   "outputs": [
    {
     "name": "stdout",
     "output_type": "stream",
     "text": [
      "\n"
     ]
    }
   ],
   "source": [
    "grid = bempp_cl.api.shapes.cube()\n",
    "dirichlet_segments = [1, 3]\n",
    "neumann_segments = [2, 4, 5, 6]"
   ]
  },
  {
   "cell_type": "markdown",
   "id": "aa70ee19",
   "metadata": {},
   "source": [
    "We can now define the spaces. For the Neumann data, we use discontinuous polynomial basis functions of order 1. For the Dirichlet data, we use continuous basis functions of local polynomial order 2.\n",
    "\n",
    "We need global spaces for the Dirichlet and Neumann data and suitable spaces on the segments. The space definitions are as follows:\n",
    "\n",
    "* The ``neumann_space_dirichlet_segment`` space holds the unknown Neumann data $t$ on $\\Gamma_D$.\n",
    "\n",
    "* The ``neumann_space_neumann_segment`` space is defined on $\\Gamma_N$ and holds the Neumann data on this segment.\n",
    "\n",
    "* The ``dirichlet_space_dirichlet_segment`` space is a space of continuous basis functions that holds the Dirichlet data on $\\Gamma_D$. Basis functions are allowed to extend into the elements adjacent to $\\Gamma_D$. We hence set the parameter ``include_boundary_dofs`` to true. This ensures that we include dofs on the boundary of the segment, and to ensure that the basis functions extend continuously into the complement of the segment we additionally set ``truncate_at_segment_edge`` to false.\n",
    "\n",
    "* The ``dirichlet_space_neumann_segment`` is defined similarly to the ``dirichlet_space_dirichlet_segment`` but on the open segment $\\Gamma_N$. Hence, we require that ``include_boundary_dofs`` is false, which is the default."
   ]
  },
  {
   "cell_type": "code",
   "execution_count": 3,
   "id": "cf7c7ccf",
   "metadata": {
    "execution": {
     "iopub.execute_input": "2025-08-01T13:48:22.681472Z",
     "iopub.status.busy": "2025-08-01T13:48:22.681302Z",
     "iopub.status.idle": "2025-08-01T13:48:24.969320Z",
     "shell.execute_reply": "2025-08-01T13:48:24.968724Z"
    }
   },
   "outputs": [],
   "source": [
    "global_neumann_space = bempp_cl.api.function_space(grid, \"DP\", 0)\n",
    "global_dirichlet_space = bempp_cl.api.function_space(grid, \"P\", 1)\n",
    "\n",
    "neumann_space_dirichlet_segment = bempp_cl.api.function_space(grid, \"DP\", 0, segments=dirichlet_segments)\n",
    "\n",
    "neumann_space_neumann_segment = bempp_cl.api.function_space(grid, \"DP\", 0, segments=neumann_segments)\n",
    "\n",
    "dirichlet_space_dirichlet_segment = bempp_cl.api.function_space(\n",
    "    grid, \"P\", 1, segments=dirichlet_segments, include_boundary_dofs=True, truncate_at_segment_edge=False\n",
    ")\n",
    "\n",
    "dirichlet_space_neumann_segment = bempp_cl.api.function_space(grid, \"P\", 1, segments=neumann_segments)\n",
    "\n",
    "dual_dirichlet_space = bempp_cl.api.function_space(\n",
    "    grid, \"P\", 1, segments=dirichlet_segments, include_boundary_dofs=True\n",
    ")"
   ]
  },
  {
   "cell_type": "markdown",
   "id": "5535d4ea",
   "metadata": {},
   "source": [
    "In the following, we define all operators on the corresponding spaces and the overall blocked operator."
   ]
  },
  {
   "cell_type": "code",
   "execution_count": 4,
   "id": "db5e66ff",
   "metadata": {
    "execution": {
     "iopub.execute_input": "2025-08-01T13:48:24.971282Z",
     "iopub.status.busy": "2025-08-01T13:48:24.971095Z",
     "iopub.status.idle": "2025-08-01T13:48:24.977475Z",
     "shell.execute_reply": "2025-08-01T13:48:24.976934Z"
    }
   },
   "outputs": [],
   "source": [
    "slp_DD = bempp_cl.api.operators.boundary.laplace.single_layer(\n",
    "    neumann_space_dirichlet_segment, dirichlet_space_dirichlet_segment, neumann_space_dirichlet_segment\n",
    ")\n",
    "\n",
    "dlp_DN = bempp_cl.api.operators.boundary.laplace.double_layer(\n",
    "    dirichlet_space_neumann_segment, dirichlet_space_dirichlet_segment, neumann_space_dirichlet_segment\n",
    ")\n",
    "\n",
    "adlp_ND = bempp_cl.api.operators.boundary.laplace.adjoint_double_layer(\n",
    "    neumann_space_dirichlet_segment, neumann_space_neumann_segment, dirichlet_space_neumann_segment\n",
    ")\n",
    "\n",
    "hyp_NN = bempp_cl.api.operators.boundary.laplace.hypersingular(\n",
    "    dirichlet_space_neumann_segment, neumann_space_neumann_segment, dirichlet_space_neumann_segment\n",
    ")\n",
    "\n",
    "slp_DN = bempp_cl.api.operators.boundary.laplace.single_layer(\n",
    "    neumann_space_neumann_segment, dirichlet_space_dirichlet_segment, neumann_space_dirichlet_segment\n",
    ")\n",
    "\n",
    "dlp_DD = bempp_cl.api.operators.boundary.laplace.double_layer(\n",
    "    dirichlet_space_dirichlet_segment, dirichlet_space_dirichlet_segment, neumann_space_dirichlet_segment\n",
    ")\n",
    "\n",
    "id_DD = bempp_cl.api.operators.boundary.sparse.identity(\n",
    "    dirichlet_space_dirichlet_segment, dirichlet_space_dirichlet_segment, neumann_space_dirichlet_segment\n",
    ")\n",
    "\n",
    "adlp_NN = bempp_cl.api.operators.boundary.laplace.adjoint_double_layer(\n",
    "    neumann_space_neumann_segment, neumann_space_neumann_segment, dirichlet_space_neumann_segment\n",
    ")\n",
    "\n",
    "id_NN = bempp_cl.api.operators.boundary.sparse.identity(\n",
    "    neumann_space_neumann_segment, neumann_space_neumann_segment, dirichlet_space_neumann_segment\n",
    ")\n",
    "\n",
    "hyp_ND = bempp_cl.api.operators.boundary.laplace.hypersingular(\n",
    "    dirichlet_space_dirichlet_segment, neumann_space_neumann_segment, dirichlet_space_neumann_segment\n",
    ")\n",
    "\n",
    "blocked = bempp_cl.api.BlockedOperator(2, 2)\n",
    "\n",
    "blocked[0, 0] = slp_DD\n",
    "blocked[0, 1] = -dlp_DN\n",
    "blocked[1, 0] = adlp_ND\n",
    "blocked[1, 1] = hyp_NN"
   ]
  },
  {
   "cell_type": "markdown",
   "id": "c027fa27",
   "metadata": {
    "lines_to_next_cell": 2
   },
   "source": [
    "Next, we define the functions of the Dirichlet and Neumann data and their discretisations on the corresponding segments."
   ]
  },
  {
   "cell_type": "code",
   "execution_count": 5,
   "id": "455a2a63",
   "metadata": {
    "execution": {
     "iopub.execute_input": "2025-08-01T13:48:24.979679Z",
     "iopub.status.busy": "2025-08-01T13:48:24.979523Z",
     "iopub.status.idle": "2025-08-01T13:50:47.000230Z",
     "shell.execute_reply": "2025-08-01T13:50:46.999771Z"
    }
   },
   "outputs": [
    {
     "name": "stderr",
     "output_type": "stream",
     "text": [
      "/dolfinx-env/lib/python3.12/site-packages/bempp_cl/api/assembly/discrete_boundary_operator.py:619: SparseEfficiencyWarning: splu converted its input to CSC format\n",
      "  solver = solver_interface(actual_mat)\n"
     ]
    }
   ],
   "source": [
    "@bempp_cl.api.real_callable\n",
    "def dirichlet_data(x, n, domain_index, res):\n",
    "    res[0] = 1\n",
    "\n",
    "\n",
    "@bempp_cl.api.real_callable\n",
    "def neumann_data(x, n, domain_index, res):\n",
    "    res[0] = 1\n",
    "\n",
    "\n",
    "dirichlet_grid_fun = bempp_cl.api.GridFunction(\n",
    "    dirichlet_space_dirichlet_segment, fun=dirichlet_data, dual_space=dual_dirichlet_space\n",
    ")\n",
    "\n",
    "neumann_grid_fun = bempp_cl.api.GridFunction(\n",
    "    neumann_space_neumann_segment, fun=neumann_data, dual_space=dirichlet_space_neumann_segment\n",
    ")\n",
    "\n",
    "rhs_fun1 = (0.5 * id_DD + dlp_DD) * dirichlet_grid_fun - slp_DN * neumann_grid_fun\n",
    "rhs_fun2 = -hyp_ND * dirichlet_grid_fun + (0.5 * id_NN - adlp_NN) * neumann_grid_fun"
   ]
  },
  {
   "cell_type": "markdown",
   "id": "1ecb9365",
   "metadata": {},
   "source": [
    "We can now discretise and solve the blocked operator system. We solve without preconditioner. This would cause problems if we were to further increase the degree of the basis functions. Note that Bempp automatically handles the block structure correctly. We have a $2\\times 2$ system of operators, hand over as right-hand side two grid functions, and are returned two grid functions as solution."
   ]
  },
  {
   "cell_type": "code",
   "execution_count": 6,
   "id": "db216cd2",
   "metadata": {
    "execution": {
     "iopub.execute_input": "2025-08-01T13:50:47.002117Z",
     "iopub.status.busy": "2025-08-01T13:50:47.001940Z",
     "iopub.status.idle": "2025-08-01T13:50:49.514385Z",
     "shell.execute_reply": "2025-08-01T13:50:49.513736Z"
    }
   },
   "outputs": [],
   "source": [
    "(neumann_solution, dirichlet_solution), _ = bempp_cl.api.linalg.gmres(blocked, [rhs_fun1, rhs_fun2])"
   ]
  },
  {
   "cell_type": "markdown",
   "id": "bb552dd9",
   "metadata": {},
   "source": [
    "We want to recombine the computed Dirichlet and Neumann data with the corresponding known data in order to get Dirichlet and Neumann grid functions defined on the whole grid. To achieve this we define identity operators from $\\Gamma_N$ and $\\Gamma_D$ into the global Dirichlet and Neumann spaces."
   ]
  },
  {
   "cell_type": "code",
   "execution_count": 7,
   "id": "e73ea40f",
   "metadata": {
    "execution": {
     "iopub.execute_input": "2025-08-01T13:50:49.516371Z",
     "iopub.status.busy": "2025-08-01T13:50:49.516179Z",
     "iopub.status.idle": "2025-08-01T13:51:01.428981Z",
     "shell.execute_reply": "2025-08-01T13:51:01.428433Z"
    }
   },
   "outputs": [],
   "source": [
    "neumann_imbedding_dirichlet_segment = bempp_cl.api.operators.boundary.sparse.identity(\n",
    "    neumann_space_dirichlet_segment, global_neumann_space, global_neumann_space\n",
    ")\n",
    "\n",
    "neumann_imbedding_neumann_segment = bempp_cl.api.operators.boundary.sparse.identity(\n",
    "    neumann_space_neumann_segment, global_neumann_space, global_neumann_space\n",
    ")\n",
    "\n",
    "dirichlet_imbedding_dirichlet_segment = bempp_cl.api.operators.boundary.sparse.identity(\n",
    "    dirichlet_space_dirichlet_segment, global_dirichlet_space, global_dirichlet_space\n",
    ")\n",
    "\n",
    "dirichlet_imbedding_neumann_segment = bempp_cl.api.operators.boundary.sparse.identity(\n",
    "    dirichlet_space_neumann_segment, global_dirichlet_space, global_dirichlet_space\n",
    ")\n",
    "\n",
    "dirichlet = (\n",
    "    dirichlet_imbedding_dirichlet_segment * dirichlet_grid_fun\n",
    "    + dirichlet_imbedding_neumann_segment * dirichlet_solution\n",
    ")\n",
    "\n",
    "neumann = neumann_imbedding_neumann_segment * neumann_grid_fun + neumann_imbedding_dirichlet_segment * neumann_solution"
   ]
  },
  {
   "cell_type": "markdown",
   "id": "acc0472a",
   "metadata": {},
   "source": [
    "Finally, we export the solution as a Gmsh file. Bempp infers the file type from the file extension."
   ]
  },
  {
   "cell_type": "code",
   "execution_count": 8,
   "id": "34fbcf88",
   "metadata": {
    "execution": {
     "iopub.execute_input": "2025-08-01T13:51:01.430905Z",
     "iopub.status.busy": "2025-08-01T13:51:01.430749Z",
     "iopub.status.idle": "2025-08-01T13:51:03.088810Z",
     "shell.execute_reply": "2025-08-01T13:51:03.088280Z"
    }
   },
   "outputs": [
    {
     "name": "stderr",
     "output_type": "stream",
     "text": [
      "/dolfinx-env/lib/python3.12/site-packages/bempp_cl/api/assembly/discrete_boundary_operator.py:619: SparseEfficiencyWarning: splu converted its input to CSC format\n",
      "  solver = solver_interface(actual_mat)\n"
     ]
    }
   ],
   "source": [
    "bempp_cl.api.export(\"mixed_dirichlet_neumann_laplace_solution.msh\", grid_function=dirichlet)"
   ]
  },
  {
   "cell_type": "markdown",
   "id": "1efd9135",
   "metadata": {},
   "source": [
    "Alternatively, we could export a VTK file using the following command. More details on exporting and plotting in Bempp can be found [in the Bempp Handbook](https://bempp_cl.com/handbook/api/using_grids.html#plotting-and-exporting-grids)"
   ]
  },
  {
   "cell_type": "code",
   "execution_count": 9,
   "id": "43c00e9f",
   "metadata": {
    "execution": {
     "iopub.execute_input": "2025-08-01T13:51:03.090460Z",
     "iopub.status.busy": "2025-08-01T13:51:03.090297Z",
     "iopub.status.idle": "2025-08-01T13:51:03.123802Z",
     "shell.execute_reply": "2025-08-01T13:51:03.123399Z"
    }
   },
   "outputs": [],
   "source": [
    "bempp_cl.api.export(\"mixed_dirichlet_neumann_laplace_solution.vtk\", grid_function=dirichlet)"
   ]
  },
  {
   "cell_type": "markdown",
   "id": "aaf3da09",
   "metadata": {},
   "source": [
    "It should look as follows."
   ]
  },
  {
   "cell_type": "code",
   "execution_count": 10,
   "id": "4166a36b",
   "metadata": {
    "execution": {
     "iopub.execute_input": "2025-08-01T13:51:03.128892Z",
     "iopub.status.busy": "2025-08-01T13:51:03.128709Z",
     "iopub.status.idle": "2025-08-01T13:51:03.131653Z",
     "shell.execute_reply": "2025-08-01T13:51:03.131244Z"
    }
   },
   "outputs": [],
   "source": [
    "try:\n",
    "    get_ipython()\n",
    "    ipython = True\n",
    "except NameError:\n",
    "    ipython = False\n",
    "if ipython:\n",
    "    from IPython.display import Image\n",
    "\n",
    "    Image(\"mixed_dirichlet_neumann_laplace_solution.png\")"
   ]
  }
 ],
 "metadata": {
  "jupytext": {
   "main_language": "python"
  },
  "language_info": {
   "codemirror_mode": {
    "name": "ipython",
    "version": 3
   },
   "file_extension": ".py",
   "mimetype": "text/x-python",
   "name": "python",
   "nbconvert_exporter": "python",
   "pygments_lexer": "ipython3",
   "version": "3.12.3"
  }
 },
 "nbformat": 4,
 "nbformat_minor": 5
}
