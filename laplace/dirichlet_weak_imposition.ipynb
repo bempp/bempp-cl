{
 "cells": [
  {
   "cell_type": "markdown",
   "id": "9a860457",
   "metadata": {},
   "source": [
    "# Weakly imposing a Dirichlet boundary condition\n",
    "\n",
    "This tutorial shows how to implement the weak imposition of a Dirichlet boundary condition, as proposed in the paper <a href='https://bempp.com/publications.html#Betcke2019'>Boundary Element Methods with Weakly Imposed Boundary Conditions (2019)</a>.\n",
    "\n",
    "First, we import Bempp and NumPy."
   ]
  },
  {
   "cell_type": "code",
   "execution_count": null,
   "id": "d0a2e95e",
   "metadata": {},
   "outputs": [],
   "source": [
    "import bempp_cl.api\n",
    "import numpy as np"
   ]
  },
  {
   "cell_type": "markdown",
   "id": "775f4231",
   "metadata": {},
   "source": [
    "Next, we define the grid for our problem, and the function spaces that we will use. In this example, we use a sphere with P1 and DUAL0 function spaces."
   ]
  },
  {
   "cell_type": "code",
   "execution_count": null,
   "id": "24d9dbb6",
   "metadata": {},
   "outputs": [],
   "source": [
    "h = 0.3\n",
    "grid = bempp_cl.api.shapes.sphere(h=h)\n",
    "p1 = bempp_cl.api.function_space(grid, \"P\", 1)\n",
    "dual0 = bempp_cl.api.function_space(grid, \"DUAL\", 0)"
   ]
  },
  {
   "cell_type": "markdown",
   "id": "0368bb2b",
   "metadata": {},
   "source": [
    "Next, we define the blocked operators proposed in the paper:\n",
    "$$\\left(\\left(\\begin{array}{cc}-\\mathsf{K}&\\mathsf{V}\\\\\\mathsf{W}&\\mathsf{K}'\\end{array}\\right)+\\left(\\begin{array}{cc}\\tfrac12\\mathsf{Id}&0\\\\\\beta\\mathsf{Id}&-\\tfrac12\\mathsf{Id}\\end{array}\\right)\\right)\\left(\\begin{array}{c}u\\\\\\lambda\\end{array}\\right)=\\left(\\begin{array}{c}g_\\text{D}\\\\\\beta g_\\text{D}\\end{array}\\right),$$\n",
    "where $\\beta>0$ is a parameter of our choice. In this example, we use $\\beta=0.1$."
   ]
  },
  {
   "cell_type": "code",
   "execution_count": null,
   "id": "34ce8b66",
   "metadata": {},
   "outputs": [],
   "source": [
    "beta = 0.1\n",
    "multi = bempp_cl.api.BlockedOperator(2, 2)\n",
    "multi[0, 0] = -bempp_cl.api.operators.boundary.laplace.double_layer(p1, p1, dual0, assembler=\"fmm\")\n",
    "multi[0, 1] = bempp_cl.api.operators.boundary.laplace.single_layer(dual0, p1, dual0, assembler=\"fmm\")\n",
    "multi[1, 0] = bempp_cl.api.operators.boundary.laplace.hypersingular(p1, dual0, p1, assembler=\"fmm\")\n",
    "multi[1, 1] = bempp_cl.api.operators.boundary.laplace.adjoint_double_layer(dual0, dual0, p1, assembler=\"fmm\")\n",
    "\n",
    "diri = bempp_cl.api.BlockedOperator(2, 2)\n",
    "diri[0, 0] = 0.5 * bempp_cl.api.operators.boundary.sparse.identity(p1, p1, dual0)\n",
    "diri[1, 0] = beta * bempp_cl.api.operators.boundary.sparse.identity(p1, dual0, p1)\n",
    "diri[1, 1] = -0.5 * bempp_cl.api.operators.boundary.sparse.identity(dual0, dual0, p1)"
   ]
  },
  {
   "cell_type": "markdown",
   "id": "3e87295b",
   "metadata": {
    "lines_to_next_cell": 2
   },
   "source": [
    "Next, we define the function $g_\\text{D}$, and define the right hand side.\n",
    "\n",
    "Here, we use $$g_\\text{D}=\\sin(\\pi x)\\sin(\\pi y)\\sinh(\\sqrt2\\pi z),$$ as in section 5 of the paper."
   ]
  },
  {
   "cell_type": "code",
   "execution_count": null,
   "id": "26acd3bd",
   "metadata": {},
   "outputs": [],
   "source": [
    "@bempp_cl.api.real_callable\n",
    "def f(x, n, d, res):\n",
    "    res[0] = np.sin(np.pi * x[0]) * np.sin(np.pi * x[1]) * np.sinh(np.sqrt(2) * np.pi * x[2])\n",
    "\n",
    "\n",
    "f_fun = bempp_cl.api.GridFunction(p1, fun=f)\n",
    "\n",
    "rhs = [2 * diri[0, 0] * f_fun, diri[1, 0] * f_fun]"
   ]
  },
  {
   "cell_type": "markdown",
   "id": "6ca689ca",
   "metadata": {},
   "source": [
    "Now we solve the system. We set `use_strong_form=True` to activate mass matrix preconditioning."
   ]
  },
  {
   "cell_type": "code",
   "execution_count": null,
   "id": "038f49bb",
   "metadata": {},
   "outputs": [],
   "source": [
    "sol, info, it_count = bempp_cl.api.linalg.gmres(multi + diri, rhs, return_iteration_count=True, use_strong_form=True)\n",
    "print(f\"Solution took {it_count} iterations\")"
   ]
  },
  {
   "cell_type": "markdown",
   "id": "3e079dc6",
   "metadata": {
    "lines_to_next_cell": 2
   },
   "source": [
    "For this problem, we know the analytic solution. We compute the error in the $\\mathcal{B}_\\text{D}$ norm:"
   ]
  },
  {
   "cell_type": "code",
   "execution_count": null,
   "id": "4743ed3e",
   "metadata": {},
   "outputs": [],
   "source": [
    "@bempp_cl.api.real_callable\n",
    "def g(x, n, d, res):\n",
    "    grad = np.array(\n",
    "        [\n",
    "            np.cos(np.pi * x[0]) * np.sin(np.pi * x[1]) * np.sinh(np.sqrt(2) * np.pi * x[2]) * np.pi,\n",
    "            np.sin(np.pi * x[0]) * np.cos(np.pi * x[1]) * np.sinh(np.sqrt(2) * np.pi * x[2]) * np.pi,\n",
    "            np.sin(np.pi * x[0]) * np.sin(np.pi * x[1]) * np.cosh(np.sqrt(2) * np.pi * x[2]) * np.pi * np.sqrt(2),\n",
    "        ]\n",
    "    )\n",
    "    res[0] = np.dot(grad, n)\n",
    "\n",
    "\n",
    "g_fun = bempp_cl.api.GridFunction(dual0, fun=g)\n",
    "\n",
    "e_fun = [sol[0] - f_fun, sol[1] - g_fun]\n",
    "\n",
    "error = 0\n",
    "# V norm\n",
    "slp = bempp_cl.api.operators.boundary.laplace.single_layer(dual0, p1, dual0, assembler=\"fmm\")\n",
    "hyp = bempp_cl.api.operators.boundary.laplace.hypersingular(p1, dual0, p1, assembler=\"fmm\")\n",
    "error += np.sqrt(np.dot(e_fun[1].coefficients.conjugate(), (slp * e_fun[1]).projections(dual0)))\n",
    "error += np.sqrt(np.dot(e_fun[0].coefficients.conjugate(), (hyp * e_fun[0]).projections(p1)))\n",
    "# D part\n",
    "error += beta**0.5 * e_fun[0].l2_norm()\n",
    "\n",
    "print(f\"Error: {error}\")"
   ]
  }
 ],
 "metadata": {
  "jupytext": {
   "main_language": "python"
  }
 },
 "nbformat": 4,
 "nbformat_minor": 5
}
