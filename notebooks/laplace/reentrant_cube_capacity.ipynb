{
 "cells": [
  {
   "cell_type": "markdown",
   "metadata": {},
   "source": [
    "# Computing the capacity of a cube with a re-entrant corner"
   ]
  },
  {
   "cell_type": "markdown",
   "metadata": {},
   "source": [
    "### Background"
   ]
  },
  {
   "cell_type": "markdown",
   "metadata": {},
   "source": [
    "The capacity $\\text{cap}(\\Omega)$ of an isolated conductor $\\Omega\\subset\\mathbb{R}^3$ with boundary $\\Gamma$ measures its ability to store charges. It is defined as the ratio of the total surface equilibrium charge relative to its surface potential value. To compute the capacity, we need to solve the following exterior Laplace problem for the equilibrium potential $u$ with unit surface value:\n",
    "$$\n",
    "\\begin{align}\n",
    "-\\Delta u &= 0\\quad\\text{in }\\Omega^\\text{+},\\\\\n",
    "u &= 1\\quad\\text{on }\\Gamma,\\\\\n",
    "|u(\\mathbf{x})| &=\\mathcal{O}\\left(|\\mathbf{x}|^{-1}\\right)\\quad\\text{as }|\\mathbf{x}|\\rightarrow\\infty.\n",
    "\\end{align}\n",
    "$$\n",
    "Here $\\Omega^\\text{+}$ is the domain exterior to $\\Omega$.\n",
    "The total surface charge of an isolated conductor is given by Gauss law as\n",
    "$$\n",
    "\\text{cap}(\\Omega)=-\\epsilon_0\\int_{\\Gamma}\\frac{\\partial u}{\\partial\\nu}(\\mathbf{x})\\,\\mathrm{d}\\mathbf{x}.\n",
    "$$\n",
    "$\\nu(\\mathbf{x})$ is the outward pointing normal direction for $\\mathbf{x}\\in\\Gamma$, and $\\epsilon_0$ is the electric constant with value $\\epsilon_0\\approx 8.854\\times 10^{-12}\\,{\\rm F/m}$. In the following we will use the normalized capacity $\\text{cap}^*(\\Omega)=-\\frac{1}{4\\pi}\\int_{\\Gamma}\\frac{\\partial u}{\\partial\\nu}\\,d\\mathbf{x}$. The normalized capacity has the value $1$ for the unit sphere.\n",
    "\n",
    "Using Green's representation theorem and noting that the exterior Laplace double layer potential is zero for constant densities, we can represent the solution $u$ as\n",
    "$$\n",
    "u(\\mathbf{x}) = -\\int_{\\Gamma} g(\\mathbf{x},\\mathbf{y})\\phi(\\mathbf{y})\\,\\mathrm{d}\\mathbf{y} \\quad\\text{for all }\\mathbf{x}\\in\\Omega^\\text{+},\n",
    "$$\n",
    "where $\\phi:={\\partial u}/{\\partial\\nu}$ is the normal derivative of the exterior solution $u$ and $g(\\mathbf{x},\\mathbf{y}):=\\frac{1}{4\\pi|\\mathbf{x}-\\mathbf{y}|}$ is the Green's function of the 3D Laplacian. By taking boundary traces, we arrive at the following boundary integral equation of the first kind.\n",
    "$$\n",
    "1 = -\\int_{\\Gamma} g(\\mathbf{x},\\mathbf{y})\\phi(\\mathbf{y})\\,\\mathrm{d}\\mathbf{y} =: -\\mathsf{V}\\phi(\\mathbf{x})\\quad\\text{for all }\\mathbf{x}\\in\\Gamma.\n",
    "$$\n",
    "The normalized capacity is now simply given by\n",
    "$$\n",
    "\\text{cap}^*(\\Omega) = -\\frac{1}{4\\pi}\\int_\\Gamma \\phi(\\mathbf{x}) \\,\\mathrm{d}\\mathbf{x}.\n",
    "$$"
   ]
  },
  {
   "cell_type": "markdown",
   "metadata": {},
   "source": [
    "### Implementation"
   ]
  },
  {
   "cell_type": "markdown",
   "metadata": {},
   "source": [
    "We start with the usual imports."
   ]
  },
  {
   "cell_type": "code",
   "execution_count": 1,
   "metadata": {},
   "outputs": [],
   "source": [
    "import bempp.api\n",
    "import numpy as np"
   ]
  },
  {
   "cell_type": "markdown",
   "metadata": {},
   "source": [
    "The grid re-entrant cube is predefined in the shapes module. By default it refines towards the singular corner. As function space on the grid we choose a simple space of piecewise constant functions."
   ]
  },
  {
   "cell_type": "code",
   "execution_count": 2,
   "metadata": {},
   "outputs": [],
   "source": [
    "grid = bempp.api.shapes.reentrant_cube(h=0.02, refinement_factor=1)\n",
    "space = bempp.api.function_space(grid, \"DP\", 0)"
   ]
  },
  {
   "cell_type": "markdown",
   "metadata": {},
   "source": [
    "Next, we define the right-hand side."
   ]
  },
  {
   "cell_type": "code",
   "execution_count": 3,
   "metadata": {},
   "outputs": [],
   "source": [
    "@bempp.api.real_callable\n",
    "def one_fun(x, n, domain_index, res):\n",
    "    res[0] = 1\n",
    "    \n",
    "rhs = bempp.api.GridFunction(space, fun=one_fun)"
   ]
  },
  {
   "cell_type": "markdown",
   "metadata": {},
   "source": [
    "The following code defines the left-hand side single-layer boundary operator."
   ]
  },
  {
   "cell_type": "code",
   "execution_count": 4,
   "metadata": {},
   "outputs": [],
   "source": [
    "op = bempp.api.operators.boundary.laplace.single_layer(space, space, space)"
   ]
  },
  {
   "cell_type": "markdown",
   "metadata": {},
   "source": [
    "We use GMRES to solve the system. To improve convergence we use a strong form discretisation that automatically preconditions with the mass matrix."
   ]
  },
  {
   "cell_type": "code",
   "execution_count": 5,
   "metadata": {},
   "outputs": [
    {
     "name": "stderr",
     "output_type": "stream",
     "text": [
      "scipy/sparse/linalg/dsolve/linsolve.py:296: SparseEfficiencyWarning: splu requires CSC matrix format\n",
      "  warn('splu requires CSC matrix format', SparseEfficiencyWarning)\n"
     ]
    },
    {
     "name": "stdout",
     "output_type": "stream",
     "text": [
      "Number of iterations: 35\n"
     ]
    }
   ],
   "source": [
    "sol, _, iteration_count = bempp.api.linalg.gmres(op, rhs, use_strong_form=True, return_iteration_count=True)\n",
    "\n",
    "print(\"Number of iterations: {0}\".format(iteration_count))"
   ]
  },
  {
   "cell_type": "markdown",
   "metadata": {},
   "source": [
    "To obtain the capacity we simply integrate the solution across the boundary."
   ]
  },
  {
   "cell_type": "code",
   "execution_count": 6,
   "metadata": {},
   "outputs": [
    {
     "name": "stdout",
     "output_type": "stream",
     "text": [
      "The normalized capacity is 0.6455178938316151.\n"
     ]
    }
   ],
   "source": [
    "normalized_capacity = 1./ ( 4 * np.pi) * sol.integrate()[0]\n",
    "print(\"The normalized capacity is {0}.\".format(normalized_capacity))"
   ]
  }
 ],
 "metadata": {
  "kernelspec": {
   "display_name": "Python 3",
   "language": "python",
   "name": "python3"
  },
  "language_info": {
   "codemirror_mode": {
    "name": "ipython",
    "version": 3
   },
   "file_extension": ".py",
   "mimetype": "text/x-python",
   "name": "python",
   "nbconvert_exporter": "python",
   "pygments_lexer": "ipython3",
   "version": "3.8.2"
  }
 },
 "nbformat": 4,
 "nbformat_minor": 4
}
